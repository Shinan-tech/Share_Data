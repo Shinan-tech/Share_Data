{
 "cells": [
  {
   "cell_type": "code",
   "execution_count": 28,
   "metadata": {},
   "outputs": [],
   "source": [
    "from bs4 import BeautifulSoup as bs\n",
    "import requests\n",
    "import re\n",
    "import json\n",
    "import pandas as pd\n",
    "from alpha_vantage.timeseries import TimeSeries"
   ]
  },
  {
   "cell_type": "code",
   "execution_count": 38,
   "metadata": {},
   "outputs": [],
   "source": [
    "with open(\"alpha_vantage_access.json\", \"r\") as infile:\n",
    "    my_access_key = json.loads(infile.read())\n",
    "# df_symbol = pd.read_pickle(\"Stocklist_DAX\")\n",
    "# symbol_list = list(df_symbol[\"Symbol\"])\n",
    "start_date = pd.to_datetime(\"2020-01-01\")\n",
    "end_date = pd.to_datetime(\"2020-09-30\")\n",
    "symbol_list = [\"ADS\", \"ALV\"]\n",
    "for symbol in symbol_list:\n",
    "    app = TimeSeries(key=\"my_access_key\", output_format=\"pandas\")\n",
    "    tuple_shares = app.get_daily_adjusted(symbol, outputsize='full')\n",
    "    df_share = tuple_shares[0]\n",
    "# df_addidas.head(2)\n",
    "# df_addidas.iloc[0,0]\n",
    "    df_index = df_share.reset_index()\n",
    "    mask = (df['date'] >= start_date ) & (df['date'] <= end_date)\n",
    "    df_2020 = df[mask]\n",
    "    # filename = \"prices/df_\" + symbol\n",
    "    df_2020.to_pickle(filename) \n",
    "# df.shape\n",
    "# # df.head()\n",
    "# # df.iloc[0,0]\n",
    "# df_addidas.info()\n",
    "\n"
   ]
  }
 ],
 "metadata": {
  "kernelspec": {
   "display_name": "Python 3",
   "language": "python",
   "name": "python3"
  },
  "language_info": {
   "codemirror_mode": {
    "name": "ipython",
    "version": 3
   },
   "file_extension": ".py",
   "mimetype": "text/x-python",
   "name": "python",
   "nbconvert_exporter": "python",
   "pygments_lexer": "ipython3",
   "version": "3.8.3"
  }
 },
 "nbformat": 4,
 "nbformat_minor": 4
}
